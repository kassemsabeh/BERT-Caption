{
 "cells": [
  {
   "cell_type": "code",
   "execution_count": 1,
   "metadata": {},
   "outputs": [],
   "source": [
    "from captions import predict_caption\n",
    "from os import listdir\n",
    "import numpy as np\n",
    "from sentence_transformers import SentenceTransformer\n",
    "import scipy\n",
    "from PIL import Image"
   ]
  },
  {
   "cell_type": "code",
   "execution_count": 2,
   "metadata": {},
   "outputs": [],
   "source": [
    "image_dir = 'Images'\n",
    "images = listdir(image_dir)\n",
    "filenames = ['Images/' + image for image in images]"
   ]
  },
  {
   "cell_type": "code",
   "execution_count": 3,
   "metadata": {},
   "outputs": [],
   "source": [
    "captions = [predict_caption(file) for file in filenames]"
   ]
  },
  {
   "cell_type": "code",
   "execution_count": 4,
   "metadata": {},
   "outputs": [],
   "source": [
    "model = SentenceTransformer('bert-base-nli-mean-tokens')\n",
    "sentence_embeddings = model.encode(captions)"
   ]
  },
  {
   "cell_type": "code",
   "execution_count": 22,
   "metadata": {},
   "outputs": [],
   "source": [
    "query = 'man is surfing'"
   ]
  },
  {
   "cell_type": "code",
   "execution_count": 23,
   "metadata": {},
   "outputs": [
    {
     "name": "stdout",
     "output_type": "stream",
     "text": [
      "a man rides a surfboard on a surfboard in the water\n"
     ]
    }
   ],
   "source": [
    "query_embedding = model.encode([query])\n",
    "distance = scipy.spatial.distance.cdist(query_embedding, sentence_embeddings, 'cosine')[0]\n",
    "results = zip(range(len(distance)), distance)\n",
    "results = sorted(results, key=lambda x:x[1])\n",
    "for i, distance in results[:1]:\n",
    "    print(captions[i].strip())\n",
    "    #print(f\"Image  name: {filenames[i]}\")\n",
    "    #caption = captions[i].strip()\n",
    "    #score = 1 - distance\n",
    "    image = Image.open(filenames[i])\n",
    "    image.show()\n"
   ]
  },
  {
   "cell_type": "code",
   "execution_count": null,
   "metadata": {},
   "outputs": [],
   "source": []
  }
 ],
 "metadata": {
  "kernelspec": {
   "display_name": "Python 3.7.6 64-bit ('tf2': conda)",
   "language": "python",
   "name": "python37664bittf2condafd09885464d34e21986d148f8f2b28bf"
  },
  "language_info": {
   "codemirror_mode": {
    "name": "ipython",
    "version": 3
   },
   "file_extension": ".py",
   "mimetype": "text/x-python",
   "name": "python",
   "nbconvert_exporter": "python",
   "pygments_lexer": "ipython3",
   "version": "3.7.6"
  }
 },
 "nbformat": 4,
 "nbformat_minor": 4
}
